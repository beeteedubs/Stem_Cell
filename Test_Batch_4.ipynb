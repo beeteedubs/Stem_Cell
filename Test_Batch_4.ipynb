{
 "cells": [
  {
   "cell_type": "code",
   "execution_count": 186,
   "metadata": {},
   "outputs": [],
   "source": [
    "from keras.preprocessing.image import ImageDataGenerator, load_img, img_to_array\n",
    "from keras.layers.pooling import AveragePooling2D\n",
    "import keras\n",
    "from keras.layers.core import Dropout, Flatten, Dense\n",
    "from keras.models import Model\n",
    "from keras.optimizers import Adam\n",
    "from keras.utils import np_utils\n",
    "from keras.applications.vgg16 import VGG16\n",
    "from keras.models import load_model\n",
    "from keras.layers import Input, Conv2D, MaxPooling2D\n",
    "from sklearn.preprocessing import LabelBinarizer, OneHotEncoder, LabelEncoder\n",
    "from sklearn.model_selection import train_test_split, StratifiedKFold, cross_val_score, cross_validate\n",
    "from tensorflow.keras.utils import to_categorical\n",
    "from sklearn.metrics import classification_report\n",
    "import matplotlib.pyplot as plt\n",
    "from imutils import paths\n",
    "import numpy as np\n",
    "import argparse\n",
    "import cv2\n",
    "import os\n",
    "import sys\n",
    "from PIL import Image, ImageFilter\n",
    "from easydict import EasyDict"
   ]
  },
  {
   "cell_type": "code",
   "execution_count": 211,
   "metadata": {},
   "outputs": [
    {
     "name": "stdout",
     "output_type": "stream",
     "text": [
      "\n",
      "\n",
      "\n",
      "Dataset split is: \n",
      "81%/9%/10%, \n",
      "train/valid/test\n",
      "\n",
      "\n",
      "\n",
      "kfold?: True\n",
      "How many epochs?: 2\n"
     ]
    }
   ],
   "source": [
    "print(\"\\n\\n\\nDataset split is: \\n81%/9%/10%, \\ntrain/valid/test\\n\\n\\n\")\n",
    "\n",
    "args = EasyDict({\n",
    "    \"kfold\": bool(input(\"kfold?: \")),\n",
    "    \"dataset\": 'Data',\n",
    "    \"epochs\": int(input(\"How many epochs?: \")),\n",
    "    'plot':'Test_Batch_4.png'\n",
    "})"
   ]
  },
  {
   "cell_type": "code",
   "execution_count": 188,
   "metadata": {},
   "outputs": [
    {
     "name": "stdout",
     "output_type": "stream",
     "text": [
      "Loading  images...\n",
      "5164 total images\n"
     ]
    }
   ],
   "source": [
    "print(\"Loading  images...\")\n",
    "\n",
    "imagePaths = list(paths.list_images(args[\"dataset\"]))\n",
    "data = []\n",
    "labels = []\n",
    "\n",
    "for imagePath in imagePaths:\n",
    "\n",
    "    label = imagePath.split(os.path.sep)[-2]\n",
    "    image = cv2.imread(imagePath)\n",
    "    data.append(image)\n",
    "    labels.append(label)\n",
    "\n",
    "print(len(data),'total images')"
   ]
  },
  {
   "cell_type": "code",
   "execution_count": 189,
   "metadata": {},
   "outputs": [],
   "source": [
    "label_encoder = LabelEncoder()\n",
    "integer_encoded = label_encoder.fit_transform(labels)\n",
    "onehot_encoder = OneHotEncoder(sparse=False)\n",
    "integer_encoded = integer_encoded.reshape(len(integer_encoded), 1)\n",
    "onehot_encoded = onehot_encoder.fit_transform(integer_encoded)\n",
    "# convert the data and labels to NumPy arrays\n",
    "\n",
    "data2 = np.array(data)\n",
    "labels2 = np.array(labels)\n",
    "\n",
    "lb = LabelBinarizer()\n",
    "labelss = lb.fit_transform(labels2)\n",
    "labelsss = to_categorical(labelss)\n",
    "# Prolif : 0\n",
    "# Senescent : 1\n",
    "\n",
    "(trainX, testX, yer, testY) = train_test_split(data2, labelss,test_size=0.1, random_state=42)\n",
    "\n",
    "(trainX, testX, trainY, testY) = train_test_split(data2, labelsss,test_size=0.1, random_state=42)\n",
    "\n",
    "\n",
    "train_aug = ImageDataGenerator()\n",
    "val_aug = ImageDataGenerator()\n"
   ]
  },
  {
   "cell_type": "code",
   "execution_count": 205,
   "metadata": {},
   "outputs": [],
   "source": [
    "baseModel = keras.applications.vgg16.VGG16(\n",
    "    include_top = False,\n",
    "    weights = 'imagenet',\n",
    "    input_tensor = None,\n",
    "    input_shape = (120, 120, 3),\n",
    "    pooling = None,\n",
    "    classes = 2)\n",
    "headModel = baseModel.output\n",
    "headModel = AveragePooling2D(pool_size=(3,3))(headModel)\n",
    "headModel = Flatten(name=\"flatten\")(headModel)\n",
    "headModel = Dense(120, activation = 'tanh')(headModel)\n",
    "headModel = Dropout(0.5)(headModel)\n",
    "headModel = Dense(2, activation = 'softmax')(headModel)\n",
    "\n",
    "model = Model(inputs = baseModel.input, outputs = headModel)\n",
    "\n",
    "for layer in baseModel.layers:\n",
    "    layer.trainable = False\n",
    "\n",
    "opt = Adam(lr=1e-3)\n",
    "model.compile(loss=\"binary_crossentropy\", optimizer=opt, metrics=[\"accuracy\"])"
   ]
  },
  {
   "cell_type": "code",
   "execution_count": null,
   "metadata": {},
   "outputs": [],
   "source": [
    "if args.kfold == True:\n",
    "    def cross_val(model,train, valid, x_test, y_test):\n",
    "        H = model.fit_generator(\n",
    "            train,\n",
    "            validation_data = valid,\n",
    "            epochs=args['epochs'], verbose = 1\n",
    "        )\n",
    "        return model.evaluate(x_test,y_test)[1]\n",
    "    \n",
    "    folds = StratifiedKFold(n_splits = 10)\n",
    "    scores = []\n",
    "    x = 1\n",
    "    for train_index, val_index in folds.split(X = np.zeros(len(trainX)), y = yer):\n",
    "        print('Round', x, '\\n')\n",
    "        x+=1\n",
    "        x_train = trainX[train_index]\n",
    "        y_train = trainY[train_index]\n",
    "        x_val = trainX[val_index]\n",
    "        y_val = trainY[val_index]\n",
    "        train_batch = train_aug.flow(x_train, y_train, batch_size=100)\n",
    "        valid_batch = val_aug.flow(x_val, y_val, batch_size = 100)\n",
    "        scores.append(cross_val(model, train_batch, valid_batch, testX, testY))\n",
    "    print(np.mean(scores))\n",
    "    \n",
    "else:\n",
    "    train_batch = train_aug.flow(x_train, y_train, batch_size=100)\n",
    "    valid_batch = val_aug.flow(x_val, y_val, batch_size = 100)\n",
    "    H = model.fit_generator(\n",
    "        train_batch,\n",
    "        validation_data = valid_batch,\n",
    "        epochs=args['epochs'])"
   ]
  },
  {
   "cell_type": "code",
   "execution_count": 21,
   "metadata": {},
   "outputs": [
    {
     "name": "stdout",
     "output_type": "stream",
     "text": [
      "[INFO] evaluating network...\n",
      "              precision    recall  f1-score   support\n",
      "\n",
      "      Prolif       0.71      0.78      0.74       261\n",
      "   Senescent       0.75      0.67      0.71       256\n",
      "\n",
      "    accuracy                           0.73       517\n",
      "   macro avg       0.73      0.72      0.72       517\n",
      "weighted avg       0.73      0.73      0.72       517\n",
      "\n"
     ]
    },
    {
     "data": {
      "text/plain": [
       "<Figure size 1080x1080 with 0 Axes>"
      ]
     },
     "metadata": {},
     "output_type": "display_data"
    },
    {
     "data": {
      "image/png": "[encoded data removed]",
      "text/plain": [
       "<Figure size 432x288 with 1 Axes>"
      ]
     },
     "metadata": {},
     "output_type": "display_data"
    }
   ],
   "source": [
    "print(\"[INFO] evaluating network...\")\n",
    "predictions = model.predict(testX, batch_size=100)\n",
    "print(classification_report(testY.argmax(axis=1),\n",
    "\tpredictions.argmax(axis=1), target_names=lb.classes_))\n",
    "# plot the training loss and accuracy\n",
    "# N = args['epochs']\n",
    "N = args['epochs']\n",
    "plt.figure(figsize=(15,15))\n",
    "plt.style.use(\"ggplot\")\n",
    "plt.figure()\n",
    "plt.plot(np.arange(0, N), H.history[\"loss\"], label=\"train_loss\")\n",
    "plt.plot(np.arange(0, N), H.history[\"val_loss\"], label=\"val_loss\")\n",
    "plt.plot(np.arange(0, N), H.history[\"accuracy\"], label=\"train_acc\")\n",
    "plt.plot(np.arange(0, N), H.history[\"val_accuracy\"], label=\"val_acc\")\n",
    "plt.title(\"Training Loss and Accuracy on Dataset\")\n",
    "plt.xlabel(\"Epoch #\")\n",
    "plt.ylabel(\"Loss/Accuracy\")\n",
    "plt.legend(loc=\"lower left\")\n",
    "plt.savefig(args[\"plot\"])"
   ]
  },
  {
   "cell_type": "code",
   "execution_count": 30,
   "metadata": {},
   "outputs": [
    {
     "name": "stdout",
     "output_type": "stream",
     "text": [
      "517/517 [==============================] - 1s 2ms/step\n"
     ]
    },
    {
     "data": {
      "text/plain": [
       "[0.5236865873493586, 0.7253385186195374]"
      ]
     },
     "execution_count": 30,
     "metadata": {},
     "output_type": "execute_result"
    }
   ],
   "source": [
    "model.evaluate(testX,testY)"
   ]
  },
  {
   "cell_type": "code",
   "execution_count": null,
   "metadata": {},
   "outputs": [],
   "source": []
  }
 ],
 "metadata": {
  "kernelspec": {
   "display_name": "Python 3",
   "language": "python",
   "name": "python3"
  },
  "language_info": {
   "codemirror_mode": {
    "name": "ipython",
    "version": 3
   },
   "file_extension": ".py",
   "mimetype": "text/x-python",
   "name": "python",
   "nbconvert_exporter": "python",
   "pygments_lexer": "ipython3",
   "version": "3.7.7"
  }
 },
 "nbformat": 4,
 "nbformat_minor": 2
}
